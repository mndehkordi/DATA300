{
 "cells": [
  {
   "cell_type": "code",
   "execution_count": 1,
   "id": "a69a486c",
   "metadata": {},
   "outputs": [
    {
     "name": "stdout",
     "output_type": "stream",
     "text": [
      "Cluster labels: [1 0 1 0 1 0]\n"
     ]
    }
   ],
   "source": [
    "from sklearn.cluster import AgglomerativeClustering\n",
    "import numpy as np\n",
    "\n",
    "# Sample data\n",
    "data = np.array([[1, 2], [5, 8], [1.5, 1.8], [8, 8], [1, 0.6], [9, 11]])\n",
    "\n",
    "# Specify the number of clusters\n",
    "k = 2\n",
    "\n",
    "# Create nearest neighbor clustering object and fit the data\n",
    "nn_cluster = AgglomerativeClustering(n_clusters=k, linkage='ward')\n",
    "nn_cluster.fit(data)\n",
    "\n",
    "# Get cluster labels\n",
    "labels = nn_cluster.labels_\n",
    "\n",
    "# Print results\n",
    "print(\"Cluster labels:\", labels)\n"
   ]
  },
  {
   "cell_type": "code",
   "execution_count": null,
   "id": "c5b1f498",
   "metadata": {},
   "outputs": [],
   "source": []
  }
 ],
 "metadata": {
  "kernelspec": {
   "display_name": "Python 3 (ipykernel)",
   "language": "python",
   "name": "python3"
  },
  "language_info": {
   "codemirror_mode": {
    "name": "ipython",
    "version": 3
   },
   "file_extension": ".py",
   "mimetype": "text/x-python",
   "name": "python",
   "nbconvert_exporter": "python",
   "pygments_lexer": "ipython3",
   "version": "3.9.18"
  }
 },
 "nbformat": 4,
 "nbformat_minor": 5
}
